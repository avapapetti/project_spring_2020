{
 "cells": [
  {
   "cell_type": "code",
   "execution_count": 36,
   "metadata": {},
   "outputs": [],
   "source": [
    "import pandas as pd\n",
    "import numpy as np\n",
    "\n",
    "file1 = pd.read_csv('/Users/avapapetti/Desktop/CNV_Files/SL88823_20180802.cnv.csv', sep = \"\\t\")\n",
    "file2 = pd.read_csv('/Users/avapapetti/Desktop/CNV_Files/SL88824_20180802.cnv.csv', sep = \"\\t\")\n",
    "\n",
    "file1['Sample#'] = 1\n",
    "file2['Sample#'] = 2"
   ]
  },
  {
   "cell_type": "code",
   "execution_count": 37,
   "metadata": {},
   "outputs": [],
   "source": [
    "min_cnv_length = 1000\n",
    "min_cnv_overlap = 25\n",
    "p_value_threshold = .90"
   ]
  },
  {
   "cell_type": "code",
   "execution_count": 38,
   "metadata": {},
   "outputs": [],
   "source": [
    "file1 = file1[(file1.Chrom != 'chrM') & (file1.P_Value >= p_value_threshold) & (abs(file1.Start - file1.Stop) >= min_cnv_length)]\n",
    "file2 = file2[(file2.Chrom != 'chrM') & (file2.P_Value >= p_value_threshold) & (abs(file2.Start - file2.Stop) >= min_cnv_length)]"
   ]
  },
  {
   "cell_type": "code",
   "execution_count": 39,
   "metadata": {},
   "outputs": [],
   "source": [
    "chrom_num = file1[\"Chrom\"].unique()\n",
    "common_cnvs = pd.DataFrame(columns = file1.columns)"
   ]
  },
  {
   "cell_type": "code",
   "execution_count": 40,
   "metadata": {},
   "outputs": [
    {
     "name": "stderr",
     "output_type": "stream",
     "text": [
      "/opt/anaconda3/lib/python3.7/site-packages/ipykernel_launcher.py:7: SettingWithCopyWarning: \n",
      "A value is trying to be set on a copy of a slice from a DataFrame.\n",
      "Try using .loc[row_indexer,col_indexer] = value instead\n",
      "\n",
      "See the caveats in the documentation: http://pandas.pydata.org/pandas-docs/stable/user_guide/indexing.html#returning-a-view-versus-a-copy\n",
      "  import sys\n",
      "/opt/anaconda3/lib/python3.7/site-packages/ipykernel_launcher.py:8: SettingWithCopyWarning: \n",
      "A value is trying to be set on a copy of a slice from a DataFrame.\n",
      "Try using .loc[row_indexer,col_indexer] = value instead\n",
      "\n",
      "See the caveats in the documentation: http://pandas.pydata.org/pandas-docs/stable/user_guide/indexing.html#returning-a-view-versus-a-copy\n",
      "  \n"
     ]
    },
    {
     "name": "stdout",
     "output_type": "stream",
     "text": [
      "    Chrom      Start       Stop         Type   P_Value Sample#\n",
      "0    chr1   21689194   21690226     DELETION  1.000000       1\n",
      "1    chr1   21689194   21690226     DELETION  0.999980       2\n",
      "2    chr1   84246365   84249757     DELETION  1.000000       1\n",
      "3    chr1   84246365   84249757     DELETION  1.000000       2\n",
      "4    chr1  164079439  164082869  DUPLICATION  1.000000       1\n",
      "5    chr1  164079439  164082869  DUPLICATION  0.999997       2\n",
      "6    chr3  149244968  149252373     DELETION  1.000000       1\n",
      "7    chr3  149244968  149252373     DELETION  1.000000       2\n",
      "8    chr4   87393977   87395067     DELETION  1.000000       1\n",
      "9    chr4   87393977   87395067     DELETION  0.999959       2\n",
      "10   chr5   83655961   83660986     DELETION  1.000000       1\n",
      "11   chr5   83655961   83660986     DELETION  1.000000       2\n",
      "12   chr6   78170175   78183012     DELETION  1.000000       1\n",
      "13   chr6   78170175   78183012     DELETION  1.000000       2\n",
      "14   chr6   78811357   78817539     DELETION  1.000000       1\n",
      "15   chr6   78811357   78817539     DELETION  1.000000       2\n",
      "16   chr6  134268976  134272633     DELETION  0.999998       1\n",
      "17   chr6  134268976  134272633     DELETION  0.999992       2\n",
      "18   chr6      95197     124783  DUPLICATION  1.000000       1\n",
      "19   chr6      95197     124783  DUPLICATION  1.000000       2\n",
      "20   chr6   26753696   26768160  DUPLICATION  1.000000       1\n",
      "21   chr6   26753696   26768160  DUPLICATION  1.000000       2\n",
      "22   chr8    9640461    9642984     DELETION  1.000000       1\n",
      "23   chr8    9640461    9642984     DELETION  1.000000       2\n",
      "24   chr9   40099976   40105656     DELETION  0.999967       1\n",
      "25   chr9   40099976   40105656     DELETION  0.999992       2\n",
      "26   chr9   40179991   40223531     DELETION  1.000000       1\n",
      "27   chr9   40179991   40223531     DELETION  1.000000       2\n",
      "28   chr9   41102512   41108667     DELETION  1.000000       1\n",
      "29   chr9   41102512   41108667     DELETION  1.000000       2\n",
      "30   chr9   60739388   60849385     DELETION  1.000000       1\n",
      "31   chr9   60739388   60849385     DELETION  1.000000       2\n",
      "32  chr10  113126112  113127299     DELETION  0.999974       1\n",
      "33  chr10  113126112  113127299     DELETION  1.000000       2\n",
      "34  chr11  134733716  134737779     DELETION  1.000000       1\n",
      "35  chr11  134733716  134737779     DELETION  1.000000       2\n",
      "36  chr11   59043302   59086440  DUPLICATION  1.000000       1\n",
      "37  chr11   59043302   59086440  DUPLICATION  1.000000       2\n",
      "38  chr12   33233721   33240026     DELETION  1.000000       1\n",
      "39  chr12   33233721   33240026     DELETION  1.000000       2\n",
      "40  chr13   21844425   21847652     DELETION  1.000000       1\n",
      "41  chr13   21844425   21847652     DELETION  0.999998       2\n",
      "42  chr13  105576969  105655462     DELETION  1.000000       1\n",
      "43  chr13  105576969  105655462     DELETION  1.000000       2\n",
      "44  chr14   41139526   41200321     DELETION  1.000000       1\n",
      "45  chr14   41139526   41200321     DELETION  1.000000       2\n",
      "46  chr16   21771249   21777772  DUPLICATION  1.000000       1\n",
      "47  chr16   21771249   21777772  DUPLICATION  1.000000       2\n",
      "48  chr18   79618625   79620710     DELETION  1.000000       1\n",
      "49  chr18   79618625   79620710     DELETION  1.000000       2\n",
      "50  chr21    8219531    8220541     DELETION  1.000000       1\n",
      "51  chr21    8219531    8220541     DELETION  1.000000       2\n",
      "52  chr21    8447047    8451714  DUPLICATION  1.000000       1\n",
      "53  chr21    8447047    8451714  DUPLICATION  1.000000       2\n",
      "54  chr22   38962236   38992202     DELETION  1.000000       1\n",
      "55  chr22   38962236   38992202     DELETION  1.000000       2\n",
      "56  chr22   22900485   22905851  DUPLICATION  1.000000       1\n",
      "57  chr22   22900485   22905851  DUPLICATION  1.000000       2\n"
     ]
    }
   ],
   "source": [
    "for i in range(len(chrom_num)):\n",
    "    file1_cnvs = file1[(file1['Chrom'] == chrom_num[i])]\n",
    "    file2_cnvs = file2[(file2['Chrom'] == chrom_num[i])]\n",
    "    \n",
    "    for j in range(len(file1_cnvs)):\n",
    "        file2_cnv_type = file2_cnvs.loc[file2_cnvs.Type.isin(file1_cnvs.iloc[[j]].Type)]\n",
    "        file2_cnv_type['start_overlap'] = abs(file2_cnv_type.Start.subtract(file1_cnvs.iloc[j].Start))\n",
    "        file2_cnv_type['stop_overlap'] = abs(file2_cnv_type.Stop.subtract(file1_cnvs.iloc[j].Stop))\n",
    "        file2_cnv_overlap = file2_cnv_type.loc[(file2_cnv_type.start_overlap <= 25) & (file2_cnv_type.stop_overlap <= 25)].drop(columns = ['start_overlap', 'stop_overlap'])\n",
    "        \n",
    "        if(len(file2_cnv_overlap) > 0):\n",
    "            common_cnvs = pd.concat([common_cnvs, file1_cnvs.iloc[[j]], file2_cnv_overlap]).reset_index(drop = True)\n",
    "\n",
    "print(common_cnvs)"
   ]
  },
  {
   "cell_type": "code",
   "execution_count": null,
   "metadata": {},
   "outputs": [],
   "source": []
  }
 ],
 "metadata": {
  "kernelspec": {
   "display_name": "Python 3",
   "language": "python",
   "name": "python3"
  },
  "language_info": {
   "codemirror_mode": {
    "name": "ipython",
    "version": 3
   },
   "file_extension": ".py",
   "mimetype": "text/x-python",
   "name": "python",
   "nbconvert_exporter": "python",
   "pygments_lexer": "ipython3",
   "version": "3.7.4"
  }
 },
 "nbformat": 4,
 "nbformat_minor": 4
}
