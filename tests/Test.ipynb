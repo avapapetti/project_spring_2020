{
 "cells": [
  {
   "cell_type": "code",
   "execution_count": 198,
   "metadata": {},
   "outputs": [],
   "source": [
    "import pytest\n",
    "import pandas as pd\n",
    "import numpy as np\n",
    "import random"
   ]
  },
  {
   "cell_type": "code",
   "execution_count": 199,
   "metadata": {},
   "outputs": [],
   "source": [
    "file1 = pd.read_csv('/Users/avapapetti/Desktop/CNV_Files/SL88823_20180802.cnv.csv', sep = \"\\t\")\n",
    "file2 = pd.read_csv('/Users/avapapetti/Desktop/CNV_Files/SL88824_20180802.cnv.csv', sep = \"\\t\")\n",
    "\n",
    "file1['Sample#'] = 1\n",
    "file2['Sample#'] = 2"
   ]
  },
  {
   "cell_type": "code",
   "execution_count": 200,
   "metadata": {},
   "outputs": [],
   "source": [
    "def test_cnv_drop():\n",
    "    file1_new = file1.drop(file1[file1.Chrom == 'chrM'].index)\n",
    "    chroms = file1_new.Chrom.unique()\n",
    "    assert 'chrM' not in chroms"
   ]
  },
  {
   "cell_type": "code",
   "execution_count": 201,
   "metadata": {},
   "outputs": [],
   "source": [
    "test_cnv_drop()"
   ]
  },
  {
   "cell_type": "code",
   "execution_count": 202,
   "metadata": {},
   "outputs": [],
   "source": [
    "def test_cnv_filtering():\n",
    "    test_min_cnv_length = 1000\n",
    "    test_p_value = .90\n",
    "    \n",
    "    file2_filtered1 = file2[(np.abs(file2.Start - file2.Stop) >= test_min_cnv_length) & (file2.P_Value >= test_p_value)]\n",
    "\n",
    "    file2_filtered2 = file2.copy()\n",
    "    file2_filtered2['CNV_Length'] = np.abs(file2.Start - file2.Stop)\n",
    "    file2_filtered2 = file2_filtered2[file2_filtered2.CNV_Length >= test_min_cnv_length]\n",
    "    file2_filtered2 = file2_filtered2[file2_filtered2.P_Value >= test_p_value]\n",
    "  \n",
    "    assert file2_filtered2.CNV_Length.min() >= test_min_cnv_length\n",
    "    assert file2_filtered2.P_Value.min() >= test_p_value\n",
    "    assert file2_filtered1.equals(file2_filtered2.drop(['CNV_Length'], axis = 1))\n",
    "    "
   ]
  },
  {
   "cell_type": "code",
   "execution_count": 203,
   "metadata": {},
   "outputs": [],
   "source": [
    "test_cnv_filtering()"
   ]
  },
  {
   "cell_type": "code",
   "execution_count": 204,
   "metadata": {},
   "outputs": [],
   "source": [
    "def test_byChrom():\n",
    "    file2_byChrom = file2.groupby('Chrom')\n",
    "    assert file2_byChrom.ngroups == file2.Chrom.nunique()"
   ]
  },
  {
   "cell_type": "code",
   "execution_count": 205,
   "metadata": {},
   "outputs": [],
   "source": [
    "test_byChrom()"
   ]
  },
  {
   "cell_type": "code",
   "execution_count": 206,
   "metadata": {},
   "outputs": [],
   "source": [
    "def test_get_group():\n",
    "    file1_random_cnv = file1.iloc[random.randrange(len(file1)-1)]\n",
    "    file2_byChrom = file2.groupby('Chrom')\n",
    "    test_file2_cnvs = file2_byChrom.get_group(file1_random_cnv.Chrom)\n",
    "    \n",
    "    assert test_file2_cnvs.Chrom.unique()[0] == file1_random_cnv.Chrom"
   ]
  },
  {
   "cell_type": "code",
   "execution_count": 207,
   "metadata": {},
   "outputs": [],
   "source": [
    "test_get_group()"
   ]
  },
  {
   "cell_type": "code",
   "execution_count": 208,
   "metadata": {},
   "outputs": [],
   "source": [
    "def test_type_match():\n",
    "    file1_cnv_del = file1[file1.Type == 'DELETION']\n",
    "    test_file2_cnvs = file2.loc[file2.Type.isin(file1_cnv_del.Type)]\n",
    "    assert file1_cnv_del.Type.unique() == test_file2_cnvs.Type.unique()"
   ]
  },
  {
   "cell_type": "code",
   "execution_count": 209,
   "metadata": {},
   "outputs": [],
   "source": [
    "test_type()"
   ]
  },
  {
   "cell_type": "code",
   "execution_count": 210,
   "metadata": {},
   "outputs": [],
   "source": [
    "def test_overlap():\n",
    "    test_min_overlap = 25\n",
    "    test_file2_cnvs2 = file2.copy()\n",
    "    \n",
    "    file1_random_cnv = file1.iloc[random.randrange(len(file1)-1)]\n",
    "    test_file2_cnvs2['Start_Overlap'] = np.abs(file2.Start.subtract(file1_random_cnv.Start))\n",
    "    test_file2_cnvs2['Stop_Overlap'] = np.abs(file2.Stop.subtract(file1_random_cnv.Stop))\n",
    "    test_file2_cnvs2 = test_file2_cnvs2.loc[(test_file2_cnvs2.Start_Overlap <= test_min_overlap) & \n",
    "        (test_file2_cnvs2.Stop_Overlap <= test_min_overlap)]\n",
    "    \n",
    "    if(len(test_file2_cnvs2) > 0):\n",
    "        assert test_file2_cnvs2.Start_Overlap.max() <= test_min_overlap\n",
    "        assert test_file2_cnvs2.Stop_Overlap.max() <= test_min_overlap"
   ]
  },
  {
   "cell_type": "code",
   "execution_count": 211,
   "metadata": {},
   "outputs": [],
   "source": [
    "test_overlap()"
   ]
  }
 ],
 "metadata": {
  "kernelspec": {
   "display_name": "Python 3",
   "language": "python",
   "name": "python3"
  },
  "language_info": {
   "codemirror_mode": {
    "name": "ipython",
    "version": 3
   },
   "file_extension": ".py",
   "mimetype": "text/x-python",
   "name": "python",
   "nbconvert_exporter": "python",
   "pygments_lexer": "ipython3",
   "version": "3.7.4"
  }
 },
 "nbformat": 4,
 "nbformat_minor": 4
}
