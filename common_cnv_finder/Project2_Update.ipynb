{
 "cells": [
  {
   "cell_type": "code",
   "execution_count": 28,
   "metadata": {},
   "outputs": [],
   "source": [
    "import pandas as pd\n",
    "import numpy as np"
   ]
  },
  {
   "cell_type": "code",
   "execution_count": 33,
   "metadata": {},
   "outputs": [],
   "source": [
    "file1 = pd.read_csv('/Users/avapapetti/Desktop/CNV_Files/SL88823_20180802.cnv.csv', sep = \"\\t\")\n",
    "file2 = pd.read_csv('/Users/avapapetti/Desktop/CNV_Files/SL88824_20180802.cnv.csv', sep = \"\\t\")\n",
    "\n",
    "file1['Sample#'] = 1\n",
    "file2['Sample#'] = 2"
   ]
  },
  {
   "cell_type": "code",
   "execution_count": 34,
   "metadata": {},
   "outputs": [],
   "source": [
    "min_cnv_length = 1000\n",
    "p_value_threshold = .90\n",
    "\n",
    "\"\"\"Remove CNVs from both samples that fail to meet intial criteria\"\"\"\n",
    "\n",
    "file1 = file1.drop(file1[file1.Chrom == 'chrM'].index)\n",
    "file1 = file1[(np.abs(file1.Start - file1.Stop) >= min_cnv_length) & (file1.P_Value >= p_value_threshold)]\n",
    "\n",
    "file2 = file2.drop(file2[file2.Chrom == 'chrM'].index)\n",
    "file2 = file2[(np.abs(file2.Start - file2.Stop) >= min_cnv_length) & (file2.P_Value >= p_value_threshold)]"
   ]
  },
  {
   "cell_type": "code",
   "execution_count": 35,
   "metadata": {},
   "outputs": [],
   "source": [
    "def common_cnvs_finder():\n",
    "    \n",
    "    \"\"\"Find CNVs common to both samples that meet qualifying criteria and create output file of results\"\"\"\n",
    "    \n",
    "    common_cnvs = pd.DataFrame(columns = file1.columns)\n",
    "    file2_byChrom = file2.groupby('Chrom')\n",
    "\n",
    "    for i in range(len(file1)):\n",
    "        file2_cnvs = file2_byChrom.get_group(file1.iloc[i].Chrom)\n",
    "        file2_cnvs = file2_cnvs.loc[file2_cnvs.Type.isin(file1.iloc[[i]].Type)]\n",
    "        file2_cnvs = file2_cnvs.loc[(np.abs(file2_cnvs.Start.subtract(file1.iloc[i].Start)) <= 25) &\n",
    "        (np.abs(file2_cnvs.Stop.subtract(file1.iloc[i].Stop)) <= 25)]\n",
    "\n",
    "        if(len(file2_cnvs) > 0):\n",
    "            common_cnvs = pd.concat([common_cnvs, file1.iloc[[i]], file2_cnvs]).reset_index(drop = True)\n",
    "    \n",
    "    print(common_cnvs.info())\n",
    "    common_cnvs_output = common_cnvs.to_csv()"
   ]
  },
  {
   "cell_type": "code",
   "execution_count": 36,
   "metadata": {},
   "outputs": [
    {
     "name": "stdout",
     "output_type": "stream",
     "text": [
      "<class 'pandas.core.frame.DataFrame'>\n",
      "RangeIndex: 58 entries, 0 to 57\n",
      "Data columns (total 6 columns):\n",
      "Chrom      58 non-null object\n",
      "Start      58 non-null object\n",
      "Stop       58 non-null object\n",
      "Type       58 non-null object\n",
      "P_Value    58 non-null float64\n",
      "Sample#    58 non-null object\n",
      "dtypes: float64(1), object(5)\n",
      "memory usage: 2.8+ KB\n",
      "None\n"
     ]
    }
   ],
   "source": [
    "common_cnvs_finder()"
   ]
  },
  {
   "cell_type": "code",
   "execution_count": null,
   "metadata": {},
   "outputs": [],
   "source": []
  }
 ],
 "metadata": {
  "kernelspec": {
   "display_name": "Python 3",
   "language": "python",
   "name": "python3"
  },
  "language_info": {
   "codemirror_mode": {
    "name": "ipython",
    "version": 3
   },
   "file_extension": ".py",
   "mimetype": "text/x-python",
   "name": "python",
   "nbconvert_exporter": "python",
   "pygments_lexer": "ipython3",
   "version": "3.7.4"
  }
 },
 "nbformat": 4,
 "nbformat_minor": 4
}
