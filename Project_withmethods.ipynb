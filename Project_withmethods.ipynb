{
 "cells": [
  {
   "cell_type": "code",
   "execution_count": 10,
   "metadata": {},
   "outputs": [],
   "source": [
    "import pandas as pd\n",
    "file1 = pd.read_csv('SL88824_20180802.cnv.csv', sep = \"\\t\")\n",
    "file2 = pd.read_csv('SL88823_20180802.cnv.csv', sep = \"\\t\")\n",
    "\n",
    "file1['Sample#'] = 1\n",
    "file2['Sample#'] = 2\n",
    "\n",
    "file1 = file1[file1[\"Chrom\"] != 'chrM']\n",
    "file2 = file2[file2[\"Chrom\"] != 'chrM']\n",
    "\n",
    "file1 = file1[file1[\"P_Value\"] <= 'chrM']\n",
    "file2 = file2[file2[\"Chrom\"] <= 'chrM']"
   ]
  },
  {
   "cell_type": "code",
   "execution_count": 11,
   "metadata": {},
   "outputs": [],
   "source": [
    "common_cnvs = pd.DataFrame(columns = file1.columns)"
   ]
  },
  {
   "cell_type": "code",
   "execution_count": 12,
   "metadata": {},
   "outputs": [
    {
     "name": "stdout",
     "output_type": "stream",
     "text": [
      "['chr1' 'chr2' 'chr3' 'chr4' 'chr5' 'chr6' 'chr7' 'chr8' 'chr9' 'chr10'\n",
      " 'chr11' 'chr12' 'chr13' 'chr14' 'chr15' 'chr16' 'chr17' 'chr18' 'chr19'\n",
      " 'chr20' 'chr21' 'chr22' 'chrM' 'chrX' 'chrY']\n"
     ]
    }
   ],
   "source": [
    "chrom_num = file1[\"Chrom\"].unique()\n",
    "print(chrom_num)"
   ]
  },
  {
   "cell_type": "code",
   "execution_count": 9,
   "metadata": {},
   "outputs": [],
   "source": [
    "def cnv_length(cnv_start, cnv_stop, min_length):\n",
    "    if(abs(cnv_start - cnv_stop) >= min_length):\n",
    "        return(cnv)"
   ]
  },
  {
   "cell_type": "code",
   "execution_count": 16,
   "metadata": {},
   "outputs": [
    {
     "ename": "SyntaxError",
     "evalue": "invalid syntax (<ipython-input-16-848630a5e02d>, line 3)",
     "output_type": "error",
     "traceback": [
      "\u001b[0;36m  File \u001b[0;32m\"<ipython-input-16-848630a5e02d>\"\u001b[0;36m, line \u001b[0;32m3\u001b[0m\n\u001b[0;31m    cnv_overlaps = [pd.concat([cnv_overlaps, cnv1, cnv2]) if(abs(cnv1[1] - cnv2[1]) <= max_overlap and abs(cnv1[2] - cnv2[2]) <= max_overlap)]\u001b[0m\n\u001b[0m                                                                                                                                             ^\u001b[0m\n\u001b[0;31mSyntaxError\u001b[0m\u001b[0;31m:\u001b[0m invalid syntax\n"
     ]
    }
   ],
   "source": [
    "def cnv_overlap(cnv1, cnv2, max_overlap):\n",
    "    cnv_overlaps = pd.dataframe(columns = file1.columns)\n",
    "    cnv_overlaps = [pd.concat([cnv_overlaps, cnv1, cnv2]) if(abs(cnv1[1] - cnv2[1]) <= max_overlap and abs(cnv1[2] - cnv2[2]) <= max_overlap)]\n",
    "    cnv_overlaps.apply(cnv_type)\n",
    "    "
   ]
  },
  {
   "cell_type": "code",
   "execution_count": null,
   "metadata": {},
   "outputs": [],
   "source": [
    "def cnv_type(cnv_overlaps):\n",
    "    cnv_type_match =pd.dataframe(columns = file1.columns)\n",
    "    if(cnv_overlaps.iloc[0,3] == cnv_overlaps.iloc[1,3]):\n",
    "        cnv_type_match = [pd.concat([cnv_type_match, cnv_overlaps])\n",
    "    "
   ]
  },
  {
   "cell_type": "code",
   "execution_count": 17,
   "metadata": {},
   "outputs": [
    {
     "ename": "SyntaxError",
     "evalue": "invalid syntax (<ipython-input-17-904f7062ff80>, line 6)",
     "output_type": "error",
     "traceback": [
      "\u001b[0;36m  File \u001b[0;32m\"<ipython-input-17-904f7062ff80>\"\u001b[0;36m, line \u001b[0;32m6\u001b[0m\n\u001b[0;31m    file1_cnv.loc[[j]].apply(def_cnv, min_length):\u001b[0m\n\u001b[0m                                                  ^\u001b[0m\n\u001b[0;31mSyntaxError\u001b[0m\u001b[0;31m:\u001b[0m invalid syntax\n"
     ]
    }
   ],
   "source": [
    "def cnv_comparison(min_length, max_overlap):\n",
    "    for i in range(len(chrom_num)):\n",
    "        file1_cnvs = file1[(file1['Chrom'] == chrom_num[i])]\n",
    "        file2_cnvs = file2[(file2['Chrom'] == chrom_num[i])]\n",
    "        for j in range(len(file1_cnvs)):\n",
    "            file1_cnv.loc[[j]].apply(def_cnv, min_length):\n",
    "            for k in range(len(file2_cnvs)):\n",
    "                file2_cnv.loc[[k]].apply(def_cnv, min_length):\n",
    "                if(abs(file1_cnvs.iloc[j,1] - file2_cnvs.iloc[k,1]) <= size & abs(file1_cnvs.iloc[j,2] - file2_cnvs.iloc[k,2]) <= size):\n",
    "                    if(file1_cnvs.iloc[j,3] == file2_cnvs.iloc[k,3]):\n",
    "                        #if(file1.iloc[j,4].item() >= thresh & file2.iloc[k,4].item() >= thresh):\n",
    "                        common_cnvs = pd.concat([common_cnvs, file1_cnvs.iloc[[j]], file2_cnvs.iloc[[k]]])\n",
    "                "
   ]
  },
  {
   "cell_type": "code",
   "execution_count": 18,
   "metadata": {},
   "outputs": [
    {
     "data": {
      "text/html": [
       "<div>\n",
       "<style scoped>\n",
       "    .dataframe tbody tr th:only-of-type {\n",
       "        vertical-align: middle;\n",
       "    }\n",
       "\n",
       "    .dataframe tbody tr th {\n",
       "        vertical-align: top;\n",
       "    }\n",
       "\n",
       "    .dataframe thead th {\n",
       "        text-align: right;\n",
       "    }\n",
       "</style>\n",
       "<table border=\"1\" class=\"dataframe\">\n",
       "  <thead>\n",
       "    <tr style=\"text-align: right;\">\n",
       "      <th></th>\n",
       "      <th>Chrom</th>\n",
       "      <th>Start</th>\n",
       "      <th>Stop</th>\n",
       "      <th>Type</th>\n",
       "      <th>P_Value</th>\n",
       "    </tr>\n",
       "  </thead>\n",
       "  <tbody>\n",
       "    <tr>\n",
       "      <td>0</td>\n",
       "      <td>chr1</td>\n",
       "      <td>14464</td>\n",
       "      <td>16487</td>\n",
       "      <td>DELETION</td>\n",
       "      <td>0.999992</td>\n",
       "    </tr>\n",
       "    <tr>\n",
       "      <td>1</td>\n",
       "      <td>chr1</td>\n",
       "      <td>46873</td>\n",
       "      <td>92926</td>\n",
       "      <td>DELETION</td>\n",
       "      <td>1.000000</td>\n",
       "    </tr>\n",
       "    <tr>\n",
       "      <td>2</td>\n",
       "      <td>chr1</td>\n",
       "      <td>96594</td>\n",
       "      <td>102264</td>\n",
       "      <td>DELETION</td>\n",
       "      <td>0.999995</td>\n",
       "    </tr>\n",
       "    <tr>\n",
       "      <td>3</td>\n",
       "      <td>chr1</td>\n",
       "      <td>934021</td>\n",
       "      <td>937087</td>\n",
       "      <td>DELETION</td>\n",
       "      <td>1.000000</td>\n",
       "    </tr>\n",
       "    <tr>\n",
       "      <td>4</td>\n",
       "      <td>chr1</td>\n",
       "      <td>1207312</td>\n",
       "      <td>1207800</td>\n",
       "      <td>DELETION</td>\n",
       "      <td>1.000000</td>\n",
       "    </tr>\n",
       "  </tbody>\n",
       "</table>\n",
       "</div>"
      ],
      "text/plain": [
       "  Chrom    Start     Stop      Type   P_Value\n",
       "0  chr1    14464    16487  DELETION  0.999992\n",
       "1  chr1    46873    92926  DELETION  1.000000\n",
       "2  chr1    96594   102264  DELETION  0.999995\n",
       "3  chr1   934021   937087  DELETION  1.000000\n",
       "4  chr1  1207312  1207800  DELETION  1.000000"
      ]
     },
     "execution_count": 18,
     "metadata": {},
     "output_type": "execute_result"
    }
   ],
   "source": [
    "file1.head()"
   ]
  },
  {
   "cell_type": "code",
   "execution_count": null,
   "metadata": {},
   "outputs": [],
   "source": []
  }
 ],
 "metadata": {
  "kernelspec": {
   "display_name": "Python 3",
   "language": "python",
   "name": "python3"
  },
  "language_info": {
   "codemirror_mode": {
    "name": "ipython",
    "version": 3
   },
   "file_extension": ".py",
   "mimetype": "text/x-python",
   "name": "python",
   "nbconvert_exporter": "python",
   "pygments_lexer": "ipython3",
   "version": "3.7.4"
  }
 },
 "nbformat": 4,
 "nbformat_minor": 4
}
